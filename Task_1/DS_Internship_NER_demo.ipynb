{
  "nbformat": 4,
  "nbformat_minor": 0,
  "metadata": {
    "colab": {
      "provenance": [],
      "gpuType": "A100"
    },
    "kernelspec": {
      "name": "python3",
      "display_name": "Python 3"
    },
    "language_info": {
      "name": "python"
    },
    "accelerator": "GPU"
  },
  "cells": [
    {
      "cell_type": "code",
      "execution_count": 1,
      "metadata": {
        "colab": {
          "base_uri": "https://localhost:8080/"
        },
        "id": "gMlcwBlI8czC",
        "outputId": "a7c1b11e-9ab2-42c2-98f6-2b830783e762"
      },
      "outputs": [
        {
          "output_type": "stream",
          "name": "stdout",
          "text": [
            "Requirement already satisfied: transformers in /usr/local/lib/python3.10/dist-packages (4.44.2)\n",
            "Requirement already satisfied: torch in /usr/local/lib/python3.10/dist-packages (2.4.1+cu121)\n",
            "Collecting pytorch-crf\n",
            "  Downloading pytorch_crf-0.7.2-py3-none-any.whl.metadata (2.4 kB)\n",
            "Requirement already satisfied: filelock in /usr/local/lib/python3.10/dist-packages (from transformers) (3.16.1)\n",
            "Requirement already satisfied: huggingface-hub<1.0,>=0.23.2 in /usr/local/lib/python3.10/dist-packages (from transformers) (0.24.7)\n",
            "Requirement already satisfied: numpy>=1.17 in /usr/local/lib/python3.10/dist-packages (from transformers) (1.26.4)\n",
            "Requirement already satisfied: packaging>=20.0 in /usr/local/lib/python3.10/dist-packages (from transformers) (24.1)\n",
            "Requirement already satisfied: pyyaml>=5.1 in /usr/local/lib/python3.10/dist-packages (from transformers) (6.0.2)\n",
            "Requirement already satisfied: regex!=2019.12.17 in /usr/local/lib/python3.10/dist-packages (from transformers) (2024.9.11)\n",
            "Requirement already satisfied: requests in /usr/local/lib/python3.10/dist-packages (from transformers) (2.32.3)\n",
            "Requirement already satisfied: safetensors>=0.4.1 in /usr/local/lib/python3.10/dist-packages (from transformers) (0.4.5)\n",
            "Requirement already satisfied: tokenizers<0.20,>=0.19 in /usr/local/lib/python3.10/dist-packages (from transformers) (0.19.1)\n",
            "Requirement already satisfied: tqdm>=4.27 in /usr/local/lib/python3.10/dist-packages (from transformers) (4.66.5)\n",
            "Requirement already satisfied: typing-extensions>=4.8.0 in /usr/local/lib/python3.10/dist-packages (from torch) (4.12.2)\n",
            "Requirement already satisfied: sympy in /usr/local/lib/python3.10/dist-packages (from torch) (1.13.3)\n",
            "Requirement already satisfied: networkx in /usr/local/lib/python3.10/dist-packages (from torch) (3.4.1)\n",
            "Requirement already satisfied: jinja2 in /usr/local/lib/python3.10/dist-packages (from torch) (3.1.4)\n",
            "Requirement already satisfied: fsspec in /usr/local/lib/python3.10/dist-packages (from torch) (2024.6.1)\n",
            "Requirement already satisfied: MarkupSafe>=2.0 in /usr/local/lib/python3.10/dist-packages (from jinja2->torch) (3.0.1)\n",
            "Requirement already satisfied: charset-normalizer<4,>=2 in /usr/local/lib/python3.10/dist-packages (from requests->transformers) (3.4.0)\n",
            "Requirement already satisfied: idna<4,>=2.5 in /usr/local/lib/python3.10/dist-packages (from requests->transformers) (3.10)\n",
            "Requirement already satisfied: urllib3<3,>=1.21.1 in /usr/local/lib/python3.10/dist-packages (from requests->transformers) (2.2.3)\n",
            "Requirement already satisfied: certifi>=2017.4.17 in /usr/local/lib/python3.10/dist-packages (from requests->transformers) (2024.8.30)\n",
            "Requirement already satisfied: mpmath<1.4,>=1.1.0 in /usr/local/lib/python3.10/dist-packages (from sympy->torch) (1.3.0)\n",
            "Downloading pytorch_crf-0.7.2-py3-none-any.whl (9.5 kB)\n",
            "Installing collected packages: pytorch-crf\n",
            "Successfully installed pytorch-crf-0.7.2\n"
          ]
        }
      ],
      "source": [
        "!pip install transformers torch pytorch-crf"
      ]
    },
    {
      "cell_type": "code",
      "source": [
        "import torch\n",
        "import torch.nn as nn\n",
        "from transformers import BertTokenizer, BertModel\n",
        "from torchcrf import CRF\n",
        "from sklearn.preprocessing import LabelEncoder\n",
        "import pandas as pd\n",
        "import joblib"
      ],
      "metadata": {
        "id": "MdERkhTG8odi"
      },
      "execution_count": 2,
      "outputs": []
    },
    {
      "cell_type": "code",
      "source": [
        "# Define the model class with CRF\n",
        "class NERBertModel(nn.Module):\n",
        "    def __init__(self, num_tag, class_weights=None):\n",
        "        super(NERBertModel, self).__init__()\n",
        "        self.num_tag = num_tag\n",
        "        self.bert = BertModel.from_pretrained('bert-base-uncased')\n",
        "        self.bert_drop = nn.Dropout(0.3)\n",
        "        self.out_tag = nn.Linear(768, self.num_tag)\n",
        "        self.crf = CRF(num_tag, batch_first=True)\n",
        "        self.class_weights = class_weights\n",
        "\n",
        "    def forward(self, ids, mask, token_type_ids, target_tags=None):\n",
        "        output = self.bert(ids, attention_mask=mask, token_type_ids=token_type_ids, return_dict=False)[0]\n",
        "        bert_out = self.bert_drop(output)\n",
        "        emissions = self.out_tag(bert_out)\n",
        "        if self.class_weights is not None:\n",
        "            class_weights = self.class_weights.to(emissions.device)\n",
        "            emissions = emissions * class_weights\n",
        "        if target_tags is not None:\n",
        "            log_likelihood = self.crf(emissions, target_tags, mask=mask.byte(), reduction='mean')\n",
        "            return emissions, -log_likelihood\n",
        "        pred_tags = self.crf.decode(emissions, mask=mask.byte())\n",
        "        return pred_tags, None"
      ],
      "metadata": {
        "id": "5WhV2wb_8rPq"
      },
      "execution_count": 3,
      "outputs": []
    },
    {
      "cell_type": "code",
      "source": [
        "# Load the tokenizer and label encoder\n",
        "tokenizer = BertTokenizer.from_pretrained('bert-base-uncased')\n",
        "tag_encoder = joblib.load(\"ner_label_encoder_v1.pkl\")\n",
        "num_tag = len(tag_encoder.classes_)\n",
        "\n",
        "# Load the pre-trained model\n",
        "device = \"cuda\" if torch.cuda.is_available() else \"cpu\"\n",
        "model = NERBertModel(num_tag=num_tag).to(device)\n",
        "model.load_state_dict(torch.load(\"ner_bert_model_v1.pth\"))\n",
        "model.eval()"
      ],
      "metadata": {
        "colab": {
          "base_uri": "https://localhost:8080/"
        },
        "id": "YxA5Vnjx8vV3",
        "outputId": "8acc2e4a-366c-4b56-9eac-983e99f61c91"
      },
      "execution_count": 5,
      "outputs": [
        {
          "output_type": "stream",
          "name": "stderr",
          "text": [
            "<ipython-input-5-cb0b8e4ace80>:9: FutureWarning: You are using `torch.load` with `weights_only=False` (the current default value), which uses the default pickle module implicitly. It is possible to construct malicious pickle data which will execute arbitrary code during unpickling (See https://github.com/pytorch/pytorch/blob/main/SECURITY.md#untrusted-models for more details). In a future release, the default value for `weights_only` will be flipped to `True`. This limits the functions that could be executed during unpickling. Arbitrary objects will no longer be allowed to be loaded via this mode unless they are explicitly allowlisted by the user via `torch.serialization.add_safe_globals`. We recommend you start setting `weights_only=True` for any use case where you don't have full control of the loaded file. Please open an issue on GitHub for any issues related to this experimental feature.\n",
            "  model.load_state_dict(torch.load(\"ner_bert_model_v1.pth\"))\n"
          ]
        },
        {
          "output_type": "execute_result",
          "data": {
            "text/plain": [
              "NERBertModel(\n",
              "  (bert): BertModel(\n",
              "    (embeddings): BertEmbeddings(\n",
              "      (word_embeddings): Embedding(30522, 768, padding_idx=0)\n",
              "      (position_embeddings): Embedding(512, 768)\n",
              "      (token_type_embeddings): Embedding(2, 768)\n",
              "      (LayerNorm): LayerNorm((768,), eps=1e-12, elementwise_affine=True)\n",
              "      (dropout): Dropout(p=0.1, inplace=False)\n",
              "    )\n",
              "    (encoder): BertEncoder(\n",
              "      (layer): ModuleList(\n",
              "        (0-11): 12 x BertLayer(\n",
              "          (attention): BertAttention(\n",
              "            (self): BertSdpaSelfAttention(\n",
              "              (query): Linear(in_features=768, out_features=768, bias=True)\n",
              "              (key): Linear(in_features=768, out_features=768, bias=True)\n",
              "              (value): Linear(in_features=768, out_features=768, bias=True)\n",
              "              (dropout): Dropout(p=0.1, inplace=False)\n",
              "            )\n",
              "            (output): BertSelfOutput(\n",
              "              (dense): Linear(in_features=768, out_features=768, bias=True)\n",
              "              (LayerNorm): LayerNorm((768,), eps=1e-12, elementwise_affine=True)\n",
              "              (dropout): Dropout(p=0.1, inplace=False)\n",
              "            )\n",
              "          )\n",
              "          (intermediate): BertIntermediate(\n",
              "            (dense): Linear(in_features=768, out_features=3072, bias=True)\n",
              "            (intermediate_act_fn): GELUActivation()\n",
              "          )\n",
              "          (output): BertOutput(\n",
              "            (dense): Linear(in_features=3072, out_features=768, bias=True)\n",
              "            (LayerNorm): LayerNorm((768,), eps=1e-12, elementwise_affine=True)\n",
              "            (dropout): Dropout(p=0.1, inplace=False)\n",
              "          )\n",
              "        )\n",
              "      )\n",
              "    )\n",
              "    (pooler): BertPooler(\n",
              "      (dense): Linear(in_features=768, out_features=768, bias=True)\n",
              "      (activation): Tanh()\n",
              "    )\n",
              "  )\n",
              "  (bert_drop): Dropout(p=0.3, inplace=False)\n",
              "  (out_tag): Linear(in_features=768, out_features=4, bias=True)\n",
              "  (crf): CRF(num_tags=4)\n",
              ")"
            ]
          },
          "metadata": {},
          "execution_count": 5
        }
      ]
    },
    {
      "cell_type": "code",
      "source": [
        "def predict_sentence(sentence, model, tokenizer, tag_encoder, device):\n",
        "    model.eval()\n",
        "    inputs = tokenizer(sentence.split(), return_tensors=\"pt\", truncation=True, padding=True, is_split_into_words=True)\n",
        "    input_ids = inputs['input_ids'].to(device)\n",
        "    mask = inputs['attention_mask'].to(device)\n",
        "    token_type_ids = inputs.get('token_type_ids', None)\n",
        "\n",
        "    if token_type_ids is not None:\n",
        "        token_type_ids = token_type_ids.to(device)\n",
        "\n",
        "    with torch.no_grad():\n",
        "        pred_tags, _ = model(ids=input_ids, mask=mask, token_type_ids=token_type_ids)\n",
        "\n",
        "    tokens = tokenizer.convert_ids_to_tokens(input_ids[0].cpu().numpy())\n",
        "    pred_tags = [tag_encoder.inverse_transform([pred])[0] for pred in pred_tags[0]]\n",
        "\n",
        "    return tokens, pred_tags"
      ],
      "metadata": {
        "id": "zj4H5HuQ8-FO"
      },
      "execution_count": 6,
      "outputs": []
    },
    {
      "cell_type": "code",
      "source": [
        "# Example sentences for demonstration\n",
        "sentences = [\n",
        "    \"Climbing Mount Everest is one of the greatest achievements for any mountaineer.\",\n",
        "    \"Kilimanjaro is the highest mountain in Africa and attracts climbers from all over the world.\",\n",
        "    \"Mount Fuji is a symbol of Japan and is famous for its beautiful shape.\",\n",
        "    \"Aconcagua, located in the Andes, is the tallest mountain in the Americas.\",\n",
        "    \"Denali is the highest peak in North America, located in Alaska.\"\n",
        "]\n",
        "\n",
        "# Loop through the sentences and display predictions\n",
        "for sentence in sentences:\n",
        "    tokens, pred_tags = predict_sentence(sentence, model, tokenizer, tag_encoder, device)\n",
        "    print(f\"Sentence: {sentence}\")\n",
        "    print(f\"Tokens: {tokens}\")\n",
        "    print(f\"Predicted Tags: {pred_tags}\")\n",
        "    print(\"=\"*50)"
      ],
      "metadata": {
        "colab": {
          "base_uri": "https://localhost:8080/"
        },
        "id": "H-Ur8x1I9B6h",
        "outputId": "30a66c01-1346-4d83-afdd-854ade9f45cf"
      },
      "execution_count": 7,
      "outputs": [
        {
          "output_type": "stream",
          "name": "stdout",
          "text": [
            "Sentence: Climbing Mount Everest is one of the greatest achievements for any mountaineer.\n",
            "Tokens: ['[CLS]', 'climbing', 'mount', 'everest', 'is', 'one', 'of', 'the', 'greatest', 'achievements', 'for', 'any', 'mountain', '##eer', '.', '[SEP]']\n",
            "Predicted Tags: ['B-Mountain', 'O', 'B-Mountain', 'O', 'O', 'O', 'O', 'O', 'O', 'O', 'O', 'O', 'O', 'O', 'O', 'B-Mountain']\n",
            "==================================================\n",
            "Sentence: Kilimanjaro is the highest mountain in Africa and attracts climbers from all over the world.\n",
            "Tokens: ['[CLS]', 'ki', '##lim', '##an', '##jar', '##o', 'is', 'the', 'highest', 'mountain', 'in', 'africa', 'and', 'attracts', 'climb', '##ers', 'from', 'all', 'over', 'the', 'world', '.', '[SEP]']\n",
            "Predicted Tags: ['B-Mountain', 'B-Mountain', 'B-Mountain', 'B-Mountain', 'B-Mountain', 'B-Mountain', 'O', 'O', 'O', 'O', 'O', 'O', 'O', 'O', 'O', 'O', 'O', 'O', 'O', 'O', 'O', 'O', 'B-Mountain']\n",
            "==================================================\n",
            "Sentence: Mount Fuji is a symbol of Japan and is famous for its beautiful shape.\n",
            "Tokens: ['[CLS]', 'mount', 'fuji', 'is', 'a', 'symbol', 'of', 'japan', 'and', 'is', 'famous', 'for', 'its', 'beautiful', 'shape', '.', '[SEP]']\n",
            "Predicted Tags: ['B-Mountain', 'B-Mountain', 'O', 'O', 'O', 'O', 'O', 'O', 'O', 'O', 'O', 'O', 'O', 'O', 'O', 'O', 'B-Mountain']\n",
            "==================================================\n",
            "Sentence: Aconcagua, located in the Andes, is the tallest mountain in the Americas.\n",
            "Tokens: ['[CLS]', 'ac', '##on', '##ca', '##gua', ',', 'located', 'in', 'the', 'andes', ',', 'is', 'the', 'tallest', 'mountain', 'in', 'the', 'americas', '.', '[SEP]']\n",
            "Predicted Tags: ['B-Mountain', 'B-Mountain', 'B-Mountain', 'B-Mountain', 'B-Mountain', 'O', 'O', 'O', 'O', 'O', 'O', 'O', 'O', 'O', 'O', 'O', 'O', 'O', 'O', 'B-Mountain']\n",
            "==================================================\n",
            "Sentence: Denali is the highest peak in North America, located in Alaska.\n",
            "Tokens: ['[CLS]', 'den', '##ali', 'is', 'the', 'highest', 'peak', 'in', 'north', 'america', ',', 'located', 'in', 'alaska', '.', '[SEP]']\n",
            "Predicted Tags: ['B-Mountain', 'B-Mountain', 'B-Mountain', 'O', 'O', 'O', 'O', 'O', 'O', 'O', 'O', 'O', 'O', 'O', 'O', 'B-Mountain']\n",
            "==================================================\n"
          ]
        },
        {
          "output_type": "stream",
          "name": "stderr",
          "text": [
            "/usr/local/lib/python3.10/dist-packages/torchcrf/__init__.py:305: UserWarning: where received a uint8 condition tensor. This behavior is deprecated and will be removed in a future version of PyTorch. Use a boolean condition instead. (Triggered internally at ../aten/src/ATen/native/TensorCompare.cpp:530.)\n",
            "  score = torch.where(mask[i].unsqueeze(1), next_score, score)\n"
          ]
        }
      ]
    }
  ]
}